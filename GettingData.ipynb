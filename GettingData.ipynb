{
  "nbformat": 4,
  "nbformat_minor": 0,
  "metadata": {
    "colab": {
      "name": "GettingData.ipynb",
      "provenance": [],
      "authorship_tag": "ABX9TyMhNfGegnimRmXqMvttMyAG",
      "include_colab_link": true
    },
    "kernelspec": {
      "name": "python3",
      "display_name": "Python 3"
    },
    "language_info": {
      "name": "python"
    }
  },
  "cells": [
    {
      "cell_type": "markdown",
      "metadata": {
        "id": "view-in-github",
        "colab_type": "text"
      },
      "source": [
        "<a href=\"https://colab.research.google.com/github/ZetaRR/NY-apartments-EDA-Regression-project/blob/main/GettingData.ipynb\" target=\"_parent\"><img src=\"https://colab.research.google.com/assets/colab-badge.svg\" alt=\"Open In Colab\"/></a>"
      ]
    },
    {
      "cell_type": "markdown",
      "source": [
        "**Data Source Type:** Custom-made Zillow API\n",
        "\n",
        "Link for API: https://rapidapi.com/apimaker/api/zillow-com1/\n",
        "\n",
        "\n",
        "\n",
        "---\n",
        "\n"
      ],
      "metadata": {
        "id": "48KBIA3u0HDW"
      }
    },
    {
      "cell_type": "code",
      "execution_count": 1,
      "metadata": {
        "id": "6K5iB4RI3Ah-"
      },
      "outputs": [],
      "source": [
        "from google.colab import drive, files\n",
        "import json \n",
        "import pandas as pd\n",
        "import requests\n",
        "import time\n",
        "\n",
        "pd.set_option('display.max_columns', 500)\n",
        "pd.set_option('display.max_rows', 200)"
      ]
    },
    {
      "cell_type": "code",
      "source": [
        "drive.mount('/drive', force_remount=False)\n",
        "\n",
        "#keys =\n",
        "city = 'New York'\n",
        "state = 'NY'\n",
        "search_query = city + ', ' + state\n",
        "print(search_query)"
      ],
      "metadata": {
        "colab": {
          "base_uri": "https://localhost:8080/"
        },
        "id": "GtczyWVP8KUQ",
        "outputId": "834e6127-8bfe-46cf-b081-ce2cab4e38bc"
      },
      "execution_count": 2,
      "outputs": [
        {
          "output_type": "stream",
          "name": "stdout",
          "text": [
            "Mounted at /drive\n",
            "New York, NY\n"
          ]
        }
      ]
    },
    {
      "cell_type": "code",
      "source": [
        "api_key_df = pd.read_csv('/drive/MyDrive/df_to_csv/api_key.csv')\n",
        "api_key = api_key_df.iloc[0,:].apply(str).values\n",
        "api_key = ' '.join([str(i) for i in api_key]) "
      ],
      "metadata": {
        "id": "BCNRwFjr80So"
      },
      "execution_count": 3,
      "outputs": []
    },
    {
      "cell_type": "code",
      "source": [
        "#FIRST PAGE\n",
        "url = \"https://zillow-com1.p.rapidapi.com/propertyExtendedSearch\"\n",
        "\n",
        "querystring = {\"location\":search_query,\"home_type\":\"Apartments\",\n",
        "               \"page\":\"1\"}\n",
        "\n",
        "headers = {\n",
        "\t\"X-RapidAPI-Host\": \"zillow-com1.p.rapidapi.com\",\n",
        "\t\"X-RapidAPI-Key\": api_key,\n",
        "  \"minPrice\":'6000000',\n",
        "  \"sqftMin\":'150'\n",
        "}\n",
        "\n",
        "response = requests.request(\"GET\", url, headers=headers, params=querystring)\n",
        "response = response.json()\n",
        "#response"
      ],
      "metadata": {
        "id": "AGVX7N8Y-p8x"
      },
      "execution_count": 4,
      "outputs": []
    },
    {
      "cell_type": "code",
      "source": [
        "pd.set_option('display.max_columns', 500)\n",
        "df_first_page = pd.json_normalize(data=response['props'])\n",
        "print('Columns -->', df_first_page.columns)\n",
        "print('Nuw of Columns -->', len(df_first_page.columns))\n",
        "print('Num of rows -->', len(df_first_page) )\n",
        "df_first_page.head(2)"
      ],
      "metadata": {
        "id": "L3a7VEC2BudD",
        "colab": {
          "base_uri": "https://localhost:8080/",
          "height": 460
        },
        "outputId": "58033851-4dce-488c-edc0-fce323fd4d92"
      },
      "execution_count": 5,
      "outputs": [
        {
          "output_type": "stream",
          "name": "stdout",
          "text": [
            "Columns --> Index(['dateSold', 'propertyType', 'lotAreaValue', 'address', 'daysOnZillow',\n",
            "       'price', 'listingDateTime', 'longitude', 'latitude',\n",
            "       'contingentListingType', 'listingStatus', 'zpid', 'imgSrc',\n",
            "       'livingArea', 'bathrooms', 'lotAreaUnit', 'country', 'currency',\n",
            "       'bedrooms', 'hasImage', 'listingSubType.is_FSBA',\n",
            "       'listingSubType.is_openHouse'],\n",
            "      dtype='object')\n",
            "Nuw of Columns --> 22\n",
            "Num of rows --> 40\n"
          ]
        },
        {
          "output_type": "execute_result",
          "data": {
            "text/plain": [
              "  dateSold propertyType  lotAreaValue  \\\n",
              "0     None    APARTMENT           NaN   \n",
              "1     None    APARTMENT           NaN   \n",
              "\n",
              "                                             address  daysOnZillow   price  \\\n",
              "0   474 48th Ave APT 29B, Long Island City, NY 11109            -1  710000   \n",
              "1  4-74 48th Ave PENTHOUSE 1C, Long Island City, ...            -1  555555   \n",
              "\n",
              "  listingDateTime  longitude   latitude contingentListingType listingStatus  \\\n",
              "0            None  -73.95634  40.744408                  None      FOR_SALE   \n",
              "1            None  -73.95634  40.744408                  None      FOR_SALE   \n",
              "\n",
              "        zpid                                             imgSrc  livingArea  \\\n",
              "0   79739498  https://photos.zillowstatic.com/fp/93f19aea44f...      1046.0   \n",
              "1  219836786  https://photos.zillowstatic.com/fp/df7f9142c3c...       921.0   \n",
              "\n",
              "   bathrooms lotAreaUnit country currency  bedrooms  hasImage  \\\n",
              "0          2        None     USA      USD         2      True   \n",
              "1          1        None     USA      USD         1      True   \n",
              "\n",
              "   listingSubType.is_FSBA listingSubType.is_openHouse  \n",
              "0                    True                         NaN  \n",
              "1                    True                         NaN  "
            ],
            "text/html": [
              "\n",
              "  <div id=\"df-5e739a9d-fcc7-47bf-9cd6-ce22fba86444\">\n",
              "    <div class=\"colab-df-container\">\n",
              "      <div>\n",
              "<style scoped>\n",
              "    .dataframe tbody tr th:only-of-type {\n",
              "        vertical-align: middle;\n",
              "    }\n",
              "\n",
              "    .dataframe tbody tr th {\n",
              "        vertical-align: top;\n",
              "    }\n",
              "\n",
              "    .dataframe thead th {\n",
              "        text-align: right;\n",
              "    }\n",
              "</style>\n",
              "<table border=\"1\" class=\"dataframe\">\n",
              "  <thead>\n",
              "    <tr style=\"text-align: right;\">\n",
              "      <th></th>\n",
              "      <th>dateSold</th>\n",
              "      <th>propertyType</th>\n",
              "      <th>lotAreaValue</th>\n",
              "      <th>address</th>\n",
              "      <th>daysOnZillow</th>\n",
              "      <th>price</th>\n",
              "      <th>listingDateTime</th>\n",
              "      <th>longitude</th>\n",
              "      <th>latitude</th>\n",
              "      <th>contingentListingType</th>\n",
              "      <th>listingStatus</th>\n",
              "      <th>zpid</th>\n",
              "      <th>imgSrc</th>\n",
              "      <th>livingArea</th>\n",
              "      <th>bathrooms</th>\n",
              "      <th>lotAreaUnit</th>\n",
              "      <th>country</th>\n",
              "      <th>currency</th>\n",
              "      <th>bedrooms</th>\n",
              "      <th>hasImage</th>\n",
              "      <th>listingSubType.is_FSBA</th>\n",
              "      <th>listingSubType.is_openHouse</th>\n",
              "    </tr>\n",
              "  </thead>\n",
              "  <tbody>\n",
              "    <tr>\n",
              "      <th>0</th>\n",
              "      <td>None</td>\n",
              "      <td>APARTMENT</td>\n",
              "      <td>NaN</td>\n",
              "      <td>474 48th Ave APT 29B, Long Island City, NY 11109</td>\n",
              "      <td>-1</td>\n",
              "      <td>710000</td>\n",
              "      <td>None</td>\n",
              "      <td>-73.95634</td>\n",
              "      <td>40.744408</td>\n",
              "      <td>None</td>\n",
              "      <td>FOR_SALE</td>\n",
              "      <td>79739498</td>\n",
              "      <td>https://photos.zillowstatic.com/fp/93f19aea44f...</td>\n",
              "      <td>1046.0</td>\n",
              "      <td>2</td>\n",
              "      <td>None</td>\n",
              "      <td>USA</td>\n",
              "      <td>USD</td>\n",
              "      <td>2</td>\n",
              "      <td>True</td>\n",
              "      <td>True</td>\n",
              "      <td>NaN</td>\n",
              "    </tr>\n",
              "    <tr>\n",
              "      <th>1</th>\n",
              "      <td>None</td>\n",
              "      <td>APARTMENT</td>\n",
              "      <td>NaN</td>\n",
              "      <td>4-74 48th Ave PENTHOUSE 1C, Long Island City, ...</td>\n",
              "      <td>-1</td>\n",
              "      <td>555555</td>\n",
              "      <td>None</td>\n",
              "      <td>-73.95634</td>\n",
              "      <td>40.744408</td>\n",
              "      <td>None</td>\n",
              "      <td>FOR_SALE</td>\n",
              "      <td>219836786</td>\n",
              "      <td>https://photos.zillowstatic.com/fp/df7f9142c3c...</td>\n",
              "      <td>921.0</td>\n",
              "      <td>1</td>\n",
              "      <td>None</td>\n",
              "      <td>USA</td>\n",
              "      <td>USD</td>\n",
              "      <td>1</td>\n",
              "      <td>True</td>\n",
              "      <td>True</td>\n",
              "      <td>NaN</td>\n",
              "    </tr>\n",
              "  </tbody>\n",
              "</table>\n",
              "</div>\n",
              "      <button class=\"colab-df-convert\" onclick=\"convertToInteractive('df-5e739a9d-fcc7-47bf-9cd6-ce22fba86444')\"\n",
              "              title=\"Convert this dataframe to an interactive table.\"\n",
              "              style=\"display:none;\">\n",
              "        \n",
              "  <svg xmlns=\"http://www.w3.org/2000/svg\" height=\"24px\"viewBox=\"0 0 24 24\"\n",
              "       width=\"24px\">\n",
              "    <path d=\"M0 0h24v24H0V0z\" fill=\"none\"/>\n",
              "    <path d=\"M18.56 5.44l.94 2.06.94-2.06 2.06-.94-2.06-.94-.94-2.06-.94 2.06-2.06.94zm-11 1L8.5 8.5l.94-2.06 2.06-.94-2.06-.94L8.5 2.5l-.94 2.06-2.06.94zm10 10l.94 2.06.94-2.06 2.06-.94-2.06-.94-.94-2.06-.94 2.06-2.06.94z\"/><path d=\"M17.41 7.96l-1.37-1.37c-.4-.4-.92-.59-1.43-.59-.52 0-1.04.2-1.43.59L10.3 9.45l-7.72 7.72c-.78.78-.78 2.05 0 2.83L4 21.41c.39.39.9.59 1.41.59.51 0 1.02-.2 1.41-.59l7.78-7.78 2.81-2.81c.8-.78.8-2.07 0-2.86zM5.41 20L4 18.59l7.72-7.72 1.47 1.35L5.41 20z\"/>\n",
              "  </svg>\n",
              "      </button>\n",
              "      \n",
              "  <style>\n",
              "    .colab-df-container {\n",
              "      display:flex;\n",
              "      flex-wrap:wrap;\n",
              "      gap: 12px;\n",
              "    }\n",
              "\n",
              "    .colab-df-convert {\n",
              "      background-color: #E8F0FE;\n",
              "      border: none;\n",
              "      border-radius: 50%;\n",
              "      cursor: pointer;\n",
              "      display: none;\n",
              "      fill: #1967D2;\n",
              "      height: 32px;\n",
              "      padding: 0 0 0 0;\n",
              "      width: 32px;\n",
              "    }\n",
              "\n",
              "    .colab-df-convert:hover {\n",
              "      background-color: #E2EBFA;\n",
              "      box-shadow: 0px 1px 2px rgba(60, 64, 67, 0.3), 0px 1px 3px 1px rgba(60, 64, 67, 0.15);\n",
              "      fill: #174EA6;\n",
              "    }\n",
              "\n",
              "    [theme=dark] .colab-df-convert {\n",
              "      background-color: #3B4455;\n",
              "      fill: #D2E3FC;\n",
              "    }\n",
              "\n",
              "    [theme=dark] .colab-df-convert:hover {\n",
              "      background-color: #434B5C;\n",
              "      box-shadow: 0px 1px 3px 1px rgba(0, 0, 0, 0.15);\n",
              "      filter: drop-shadow(0px 1px 2px rgba(0, 0, 0, 0.3));\n",
              "      fill: #FFFFFF;\n",
              "    }\n",
              "  </style>\n",
              "\n",
              "      <script>\n",
              "        const buttonEl =\n",
              "          document.querySelector('#df-5e739a9d-fcc7-47bf-9cd6-ce22fba86444 button.colab-df-convert');\n",
              "        buttonEl.style.display =\n",
              "          google.colab.kernel.accessAllowed ? 'block' : 'none';\n",
              "\n",
              "        async function convertToInteractive(key) {\n",
              "          const element = document.querySelector('#df-5e739a9d-fcc7-47bf-9cd6-ce22fba86444');\n",
              "          const dataTable =\n",
              "            await google.colab.kernel.invokeFunction('convertToInteractive',\n",
              "                                                     [key], {});\n",
              "          if (!dataTable) return;\n",
              "\n",
              "          const docLinkHtml = 'Like what you see? Visit the ' +\n",
              "            '<a target=\"_blank\" href=https://colab.research.google.com/notebooks/data_table.ipynb>data table notebook</a>'\n",
              "            + ' to learn more about interactive tables.';\n",
              "          element.innerHTML = '';\n",
              "          dataTable['output_type'] = 'display_data';\n",
              "          await google.colab.output.renderOutput(dataTable, element);\n",
              "          const docLink = document.createElement('div');\n",
              "          docLink.innerHTML = docLinkHtml;\n",
              "          element.appendChild(docLink);\n",
              "        }\n",
              "      </script>\n",
              "    </div>\n",
              "  </div>\n",
              "  "
            ]
          },
          "metadata": {},
          "execution_count": 5
        }
      ]
    },
    {
      "cell_type": "code",
      "source": [
        "#EXTENDED SEARCH\n",
        "zpids = df_first_page['zpid'].tolist()\n",
        "\n",
        "detail_list = []\n",
        "for zpid in zpids:\n",
        "  url = \"https://zillow-com1.p.rapidapi.com/property\"\n",
        "\n",
        "  querystring = {\"zpid\":zpid}\n",
        "\n",
        "  headers = {\n",
        "\t\"X-RapidAPI-Host\": \"zillow-com1.p.rapidapi.com\",\n",
        "\t\"X-RapidAPI-Key\": api_key\n",
        "  }\n",
        "\n",
        "  response_zpids = requests.request(\"GET\", url, headers=headers, params=querystring)\n",
        "  response_zpids_json = response_zpids.json()\n",
        "  time.sleep(6.1)\n",
        "\n",
        "  detail_list.append(response_zpids_json)"
      ],
      "metadata": {
        "id": "fPrYlbd-gTlS"
      },
      "execution_count": null,
      "outputs": []
    },
    {
      "cell_type": "code",
      "source": [
        "details_cols = [\n",
        "      'propertyTaxRate',\n",
        "      'timeOnZillow',\n",
        "      'isListedByOwner',\n",
        "      'zipcode',\n",
        "      'annualHomeownersInsurance',\n",
        "      'rentZestimate',\n",
        "      'yearBuilt',\n",
        "      'pageViewCount',\n",
        "      'listingProvider.postingGroupName',\n",
        "      'resoFacts.cityRegion',\n",
        "      'resoFacts.hasCooling',\n",
        "      'resoFacts.hasView']\n",
        "\n",
        "df_prop_details = pd.json_normalize(data=detail_list)\n",
        "df_prop_details = df_prop_details[details_cols]\n",
        "\n",
        "df_first_page = pd.concat([df_first_page, df_prop_details], axis=1)\n",
        "df_first_page.head(5)"
      ],
      "metadata": {
        "id": "AblBb5mlgcN8"
      },
      "execution_count": null,
      "outputs": []
    },
    {
      "cell_type": "code",
      "source": [
        "#SECOND PAGE\n",
        "url = \"https://zillow-com1.p.rapidapi.com/propertyExtendedSearch\"\n",
        "\n",
        "querystring = {\"location\":search_query,\"home_type\":\"Apartments\",\n",
        "               \"page\":\"2\"}\n",
        "\n",
        "headers = {\n",
        "\t\"X-RapidAPI-Host\": \"zillow-com1.p.rapidapi.com\",\n",
        "\t\"X-RapidAPI-Key\": api_key,\n",
        "  \"minPrice\":'6000000',\n",
        "  \"sqftMin\":'150'\n",
        "}\n",
        "\n",
        "response = requests.request(\"GET\", url, headers=headers, params=querystring)\n",
        "response = response.json()\n",
        "#response"
      ],
      "metadata": {
        "id": "qobDA4WCdbDe"
      },
      "execution_count": null,
      "outputs": []
    },
    {
      "cell_type": "code",
      "source": [
        "df_second_page = pd.json_normalize(data=response['props'])\n",
        "print('Columns -->', df_second_page.columns)\n",
        "print('Nuw of Columns -->', len(df_second_page.columns))\n",
        "print('Num of rows -->', len(df_second_page) )\n",
        "df_second_page.head(5)"
      ],
      "metadata": {
        "id": "2jil9PgLdvYr"
      },
      "execution_count": null,
      "outputs": []
    },
    {
      "cell_type": "code",
      "source": [
        "#EXTENDED SEARCH\n",
        "zpids = df_second_page['zpid'].tolist()\n",
        "\n",
        "detail_list = []\n",
        "for zpid in zpids:\n",
        "  url = \"https://zillow-com1.p.rapidapi.com/property\"\n",
        "\n",
        "  querystring = {\"zpid\":zpid}\n",
        "\n",
        "  headers = {\n",
        "\t\"X-RapidAPI-Host\": \"zillow-com1.p.rapidapi.com\",\n",
        "\t\"X-RapidAPI-Key\": api_key\n",
        "  }\n",
        "\n",
        "  response_zpids = requests.request(\"GET\", url, headers=headers, params=querystring)\n",
        "  response_zpids_json = response_zpids.json()\n",
        "  time.sleep(6.1)\n",
        "\n",
        "  detail_list.append(response_zpids_json)"
      ],
      "metadata": {
        "id": "SnmfP7rhhHj4"
      },
      "execution_count": null,
      "outputs": []
    },
    {
      "cell_type": "code",
      "source": [
        "df_prop_details = pd.json_normalize(data=detail_list)\n",
        "df_prop_details = df_prop_details[details_cols]\n",
        "\n",
        "df_second_page = pd.concat([df_second_page, df_prop_details], axis=1)\n",
        "df_second_page.head(5)"
      ],
      "metadata": {
        "id": "veL9A_mTipns"
      },
      "execution_count": null,
      "outputs": []
    },
    {
      "cell_type": "code",
      "source": [
        "url = \"https://zillow-com1.p.rapidapi.com/propertyExtendedSearch\"\n",
        "\n",
        "querystring = {\"location\":search_query,\"home_type\":\"Apartments\",\n",
        "               \"page\":\"3\"}\n",
        "\n",
        "headers = {\n",
        "\t\"X-RapidAPI-Host\": \"zillow-com1.p.rapidapi.com\",\n",
        "\t\"X-RapidAPI-Key\": api_key,\n",
        "  \"minPrice\":'6000000',\n",
        "  \"sqftMin\":'150'\n",
        "}\n",
        "\n",
        "response = requests.request(\"GET\", url, headers=headers, params=querystring)\n",
        "response = response.json()"
      ],
      "metadata": {
        "id": "ZAKiXHYOe7nO"
      },
      "execution_count": null,
      "outputs": []
    },
    {
      "cell_type": "code",
      "source": [
        "pd.set_option('display.max_columns', 500)\n",
        "df_third_page = pd.json_normalize(data=response['props'])\n",
        "print('Columns -->', df_third_page.columns)\n",
        "print('Nuw of Columns -->', len(df_third_page.columns))\n",
        "print('Num of rows -->', len(df_third_page) )\n",
        "df_third_page.head(5)"
      ],
      "metadata": {
        "id": "mCEkQ3FyfCv4"
      },
      "execution_count": null,
      "outputs": []
    },
    {
      "cell_type": "code",
      "source": [
        "zpids = df_third_page['zpid'].tolist()\n",
        "\n",
        "detail_list = []\n",
        "for zpid in zpids:\n",
        "  url = \"https://zillow-com1.p.rapidapi.com/property\"\n",
        "\n",
        "  querystring = {\"zpid\":zpid}\n",
        "\n",
        "  headers = {\n",
        "\t\"X-RapidAPI-Host\": \"zillow-com1.p.rapidapi.com\",\n",
        "\t\"X-RapidAPI-Key\": api_key\n",
        "  }\n",
        "\n",
        "  response_zpids = requests.request(\"GET\", url, headers=headers, params=querystring)\n",
        "  response_zpids_json = response_zpids.json()\n",
        "  time.sleep(6.1)\n",
        "\n",
        "  detail_list.append(response_zpids_json)"
      ],
      "metadata": {
        "id": "36H_4pudzk2-"
      },
      "execution_count": null,
      "outputs": []
    },
    {
      "cell_type": "code",
      "source": [
        "df_prop_details = pd.json_normalize(data=detail_list)\n",
        "df_prop_details = df_prop_details[details_cols]\n",
        "\n",
        "df_third_page = pd.concat([df_third_page, df_prop_details], axis=1)\n",
        "df_third_page.head(5)"
      ],
      "metadata": {
        "id": "ADoL3vBGjBNz"
      },
      "execution_count": null,
      "outputs": []
    },
    {
      "cell_type": "code",
      "source": [
        "url = \"https://zillow-com1.p.rapidapi.com/propertyExtendedSearch\"\n",
        "\n",
        "querystring = {\"location\":search_query,\"home_type\":\"Apartments\",\n",
        "               \"page\":\"4\"}\n",
        "\n",
        "headers = {\n",
        "\t\"X-RapidAPI-Host\": \"zillow-com1.p.rapidapi.com\",\n",
        "\t\"X-RapidAPI-Key\": api_key,\n",
        "  \"minPrice\":'6000000',\n",
        "  \"sqftMin\":'150'\n",
        "}\n",
        "\n",
        "response = requests.request(\"GET\", url, headers=headers, params=querystring)\n",
        "response = response.json()"
      ],
      "metadata": {
        "id": "kqV0duDf4YT2"
      },
      "execution_count": null,
      "outputs": []
    },
    {
      "cell_type": "code",
      "source": [
        "pd.set_option('display.max_columns', 500)\n",
        "df_fourth_page = pd.json_normalize(data=response['props'])\n",
        "print('Columns -->', df_fourth_page.columns)\n",
        "print('Nuw of Columns -->', len(df_fourth_page.columns))\n",
        "print('Num of rows -->', len(df_fourth_page) )\n",
        "df_fourth_page.head(5)"
      ],
      "metadata": {
        "id": "jOU6OQN54pXu"
      },
      "execution_count": null,
      "outputs": []
    },
    {
      "cell_type": "code",
      "source": [
        "zpids = df_fourth_page['zpid'].tolist()\n",
        "\n",
        "detail_list = []\n",
        "for zpid in zpids:\n",
        "  url = \"https://zillow-com1.p.rapidapi.com/property\"\n",
        "\n",
        "  querystring = {\"zpid\":zpid}\n",
        "\n",
        "  headers = {\n",
        "\t\"X-RapidAPI-Host\": \"zillow-com1.p.rapidapi.com\",\n",
        "\t\"X-RapidAPI-Key\": api_key\n",
        "  }\n",
        "\n",
        "  response_zpids = requests.request(\"GET\", url, headers=headers, params=querystring)\n",
        "  response_zpids_json = response_zpids.json()\n",
        "  time.sleep(6.1)\n",
        "\n",
        "  detail_list.append(response_zpids_json)"
      ],
      "metadata": {
        "id": "2s_g897H4v0F"
      },
      "execution_count": null,
      "outputs": []
    },
    {
      "cell_type": "code",
      "source": [
        "df_prop_details = pd.json_normalize(data=detail_list)\n",
        "df_prop_details = df_prop_details[details_cols]\n",
        "\n",
        "df_fourth_page = pd.concat([df_fourth_page, df_prop_details], axis=1)\n",
        "df_third_page.head(5)"
      ],
      "metadata": {
        "id": "zErJlqiW417-"
      },
      "execution_count": null,
      "outputs": []
    },
    {
      "cell_type": "code",
      "source": [
        "#concating all dataframes\n",
        "df = pd.concat([df_first_page, df_second_page, df_third_page, df_fourth_page],axis=0)"
      ],
      "metadata": {
        "id": "8wMywfE6mEu0"
      },
      "execution_count": null,
      "outputs": []
    },
    {
      "cell_type": "code",
      "source": [
        "df.to_csv('/drive/MyDrive/df_to_csv/zillow_df.csv', encoding='utf-8', index=False) # saving df on my own Google Drive"
      ],
      "metadata": {
        "id": "pVYOtD61oHoH"
      },
      "execution_count": null,
      "outputs": []
    },
    {
      "cell_type": "code",
      "source": [
        ""
      ],
      "metadata": {
        "id": "-OmdGGPftLUO"
      },
      "execution_count": null,
      "outputs": []
    }
  ]
}